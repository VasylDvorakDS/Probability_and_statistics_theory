{
  "nbformat": 4,
  "nbformat_minor": 0,
  "metadata": {
    "colab": {
      "provenance": [],
      "authorship_tag": "ABX9TyP7ljEbIDTZGSKhpvewYyi3",
      "include_colab_link": true
    },
    "kernelspec": {
      "name": "python3",
      "display_name": "Python 3"
    },
    "language_info": {
      "name": "python"
    }
  },
  "cells": [
    {
      "cell_type": "markdown",
      "metadata": {
        "id": "view-in-github",
        "colab_type": "text"
      },
      "source": [
        "<a href=\"https://colab.research.google.com/github/VasylDvorakDS/Probability_and_statistics_theory/blob/master/Probability_theory_Home_Work_Lesson_1.ipynb\" target=\"_parent\"><img src=\"https://colab.research.google.com/assets/colab-badge.svg\" alt=\"Open In Colab\"/></a>"
      ]
    },
    {
      "cell_type": "code",
      "source": [
        "import math"
      ],
      "metadata": {
        "id": "Z2NF1LziXTE7"
      },
      "execution_count": null,
      "outputs": []
    },
    {
      "cell_type": "markdown",
      "source": [],
      "metadata": {
        "id": "u7BhgMU0bU5V"
      }
    },
    {
      "cell_type": "markdown",
      "source": [
        "**Практическое задание к сеименару 1.**\n",
        "\n",
        "\n",
        "Вероятность это всегда отношение числа благоприятных исходов m к числу всех возможных исходов n:\n",
        "\n",
        "$$P(A)=m/n$$\n",
        "\n",
        "Воспользуемся формулой подсчёта возможных сочетаний:\n",
        "\n",
        "$$ comb(n, k) = n! / ( k! * (n – k)! ) $$\n",
        "\n",
        "Для решения всех задач напишем функцию расчёта вероятностей, а функцию расчёта сочетаний возьмём из пакета math:\n",
        "\n",
        "\n",
        "\n",
        "\n",
        "\n",
        "\n",
        "\n"
      ],
      "metadata": {
        "id": "YIH9my2iXRS4"
      }
    },
    {
      "cell_type": "code",
      "source": [
        "def PA(m,n):\n",
        "  return round(m/n, 4)"
      ],
      "metadata": {
        "id": "QOKPrZuRagje"
      },
      "execution_count": null,
      "outputs": []
    },
    {
      "cell_type": "markdown",
      "source": [
        "**Задание 1**\n",
        "\n",
        "1) Из колоды в 52 карты извлекаются случайным образом 4 карты.\n",
        "\n",
        "a) Найти вероятность того, что все карты – крести.\n",
        "\n",
        "б) Найти вероятность, что среди 4-х карт окажется хотя бы один туз.\n",
        "\n",
        "Найдём все возможные сочетания из четырёх карт из колоды 52 карт."
      ],
      "metadata": {
        "id": "SCiv-7C_blWd"
      }
    },
    {
      "cell_type": "code",
      "source": [
        "n=math.comb(52, 4)\n",
        "n"
      ],
      "metadata": {
        "colab": {
          "base_uri": "https://localhost:8080/"
        },
        "id": "QXX48BMrbK4S",
        "outputId": "756622af-ab07-49ed-863f-2fe1377d3b30"
      },
      "execution_count": null,
      "outputs": [
        {
          "output_type": "execute_result",
          "data": {
            "text/plain": [
              "270725"
            ]
          },
          "metadata": {},
          "execution_count": 55
        }
      ]
    },
    {
      "cell_type": "markdown",
      "source": [
        "Найдём все возможные удачные сочетания 4х треф из всех треф 13 из колоды карт"
      ],
      "metadata": {
        "id": "C6AC6R5Jc5kT"
      }
    },
    {
      "cell_type": "code",
      "source": [
        "m = math.comb(13, 4)\n",
        "m"
      ],
      "metadata": {
        "colab": {
          "base_uri": "https://localhost:8080/"
        },
        "id": "6a4mrmL8bK7U",
        "outputId": "662aa18b-e031-4895-e1cb-4baef8b1cb55"
      },
      "execution_count": null,
      "outputs": [
        {
          "output_type": "execute_result",
          "data": {
            "text/plain": [
              "715"
            ]
          },
          "metadata": {},
          "execution_count": 56
        }
      ]
    },
    {
      "cell_type": "markdown",
      "source": [
        "a) Найдём вероятность того что все четыре карты трефы"
      ],
      "metadata": {
        "id": "gGFog0Dudbh_"
      }
    },
    {
      "cell_type": "code",
      "source": [
        "print('Вероятность того что все четыре карты трефы P(A)=', PA(m,n))"
      ],
      "metadata": {
        "colab": {
          "base_uri": "https://localhost:8080/"
        },
        "id": "7I2aTFj-bK-d",
        "outputId": "ce3ae30c-fca7-42a6-9d92-a31df0991857"
      },
      "execution_count": null,
      "outputs": [
        {
          "output_type": "stream",
          "name": "stdout",
          "text": [
            "Вероятность того что все четыре карты трефы P(A)= 0.0026\n"
          ]
        }
      ]
    },
    {
      "cell_type": "markdown",
      "source": [
        "б) Найдём вероятность, что среди 4-х карт окажется хотя бы один туз.\n",
        "\n",
        "Вычислим все возможные сочетания четырёх карт с одним тузом. В колоде карт есть четыре туза. Значит комбинаций с одним тузом будет С(4,1). Тогда комбинаций оставшихся трёх не тузов будет С(48,3). Значит общее число удачных комбинаций из четырёх карт с одним тузом будет С(4, 1)*С(48,3).\n",
        "\n",
        "Вычислим все возможные сочетания четырёх карт с двумя тузами. В колоде карт есть четыре туза. Значит комбинаций с двумя тузоми будет С(4,2). Тогда комбинаций оставшихся двух не тузов будет С(48,2). Значит общее число удачных комбинаций из четырёх карт с двумя тузоми будет С(4, 2)*С(48,2).\n",
        "\n",
        "Вычислим все возможные сочетания четырёх карт с тремя тузами. В колоде карт есть четыре туза. Значит комбинаций с тремя тузоми будет С(4,3). Тогда комбинаций оставшейся карты не туза будет С(48,1). Значит общее число удачных комбинаций из четырёх карт с тремя тузоми будет С(4, 3)*С(48,1).\n",
        "\n",
        "Комбинаций карт с четырьма тузами всего 1.\n",
        "\n",
        "Сложим все удачные комбинации. Это и будет число благоприятных исходов.\n"
      ],
      "metadata": {
        "id": "oK7gwsRKd_Cw"
      }
    },
    {
      "cell_type": "code",
      "source": [
        "m = sum([math.comb(4,1)*math.comb(48,3), math.comb(4,2)*math.comb(48,2), math.comb(4,3)*math.comb(48,1), 1])\n",
        "m"
      ],
      "metadata": {
        "colab": {
          "base_uri": "https://localhost:8080/"
        },
        "id": "dC7D6UWCd5T_",
        "outputId": "39807140-f0aa-4fb6-b72e-b0c80a0769fa"
      },
      "execution_count": null,
      "outputs": [
        {
          "output_type": "execute_result",
          "data": {
            "text/plain": [
              "76145"
            ]
          },
          "metadata": {},
          "execution_count": 58
        }
      ]
    },
    {
      "cell_type": "markdown",
      "source": [
        "Вероятность того что среди 4-х карт окажется хотя бы один туз."
      ],
      "metadata": {
        "id": "RZ5c89znhSN5"
      }
    },
    {
      "cell_type": "code",
      "source": [
        "print('Вероятность того что среди 4-х карт окажется хотя бы один туз P(A)=', PA(m,n))"
      ],
      "metadata": {
        "colab": {
          "base_uri": "https://localhost:8080/"
        },
        "id": "Gdc8KVtyg943",
        "outputId": "744d9a24-44a1-4321-9423-4c05b4e20c0e"
      },
      "execution_count": null,
      "outputs": [
        {
          "output_type": "stream",
          "name": "stdout",
          "text": [
            "Вероятность того что среди 4-х карт окажется хотя бы один туз P(A)= 0.2813\n"
          ]
        }
      ]
    },
    {
      "cell_type": "markdown",
      "source": [
        " **Задание 2**\n",
        "\n",
        " На входной двери подъезда установлен кодовый замок, содержащий десять кнопок с цифрами от 0 до 9. Код содержит три цифры, которые нужно нажать одновременно. Какова вероятность того, что человек, не знающий код, откроет дверь с первой попытки?\n",
        "\n",
        "\n",
        "\n",
        "\n",
        " Всего сочетаний набрать три любые цифры n = С(10,3)\n",
        " А вот попытка набрать верный код всего одна m = 1.\n",
        "\n",
        " Вероятность открыть дверь с первой попытки, нажав на три верных цифры."
      ],
      "metadata": {
        "id": "hFPHPY8khqxO"
      }
    },
    {
      "cell_type": "code",
      "source": [
        "m=1\n",
        "n=math.comb(10,3)\n",
        "n"
      ],
      "metadata": {
        "colab": {
          "base_uri": "https://localhost:8080/"
        },
        "id": "0Fp-slgmjIcr",
        "outputId": "e233a630-9ca0-494d-d1c6-e2b3eb86e668"
      },
      "execution_count": null,
      "outputs": [
        {
          "output_type": "execute_result",
          "data": {
            "text/plain": [
              "120"
            ]
          },
          "metadata": {},
          "execution_count": 60
        }
      ]
    },
    {
      "cell_type": "code",
      "source": [
        "print('Вероятность открыть дверь с первой попытки, нажав на три верных цифры P(A)=', PA(m,n))"
      ],
      "metadata": {
        "colab": {
          "base_uri": "https://localhost:8080/"
        },
        "id": "yobqBoo8hnS4",
        "outputId": "8056e83d-9693-4515-fd64-bfee6482b3cb"
      },
      "execution_count": null,
      "outputs": [
        {
          "output_type": "stream",
          "name": "stdout",
          "text": [
            "Вероятность открыть дверь с первой попытки, нажав на три верных цифры P(A)= 0.0083\n"
          ]
        }
      ]
    },
    {
      "cell_type": "markdown",
      "source": [
        " **Задание 3**\n",
        "\n",
        "В ящике имеется 15 деталей, из которых 9 окрашены. Рабочий случайным образом извлекает 3 детали. Какова вероятность того, что все извлеченные детали окрашены?\n",
        "\n",
        "\n",
        "\n",
        "\n",
        " Всего благоприятных сочетаний вытащить три окрашенных детали m = С(9,3)\n",
        " Всего всевозможных сочетаний из трёх деталей n = С(15,3)"
      ],
      "metadata": {
        "id": "MjUBpGiakblW"
      }
    },
    {
      "cell_type": "code",
      "source": [
        "m=math.comb(9,3)\n",
        "m"
      ],
      "metadata": {
        "colab": {
          "base_uri": "https://localhost:8080/"
        },
        "id": "RZ5H4uV1jCJA",
        "outputId": "36165d2d-b1e3-45aa-bd5a-13211b314b6e"
      },
      "execution_count": null,
      "outputs": [
        {
          "output_type": "execute_result",
          "data": {
            "text/plain": [
              "84"
            ]
          },
          "metadata": {},
          "execution_count": 62
        }
      ]
    },
    {
      "cell_type": "code",
      "source": [
        "n=math.comb(15,3)\n",
        "n"
      ],
      "metadata": {
        "colab": {
          "base_uri": "https://localhost:8080/"
        },
        "id": "CFh88zeVl2jd",
        "outputId": "f2714871-88e5-45cd-dea4-e1fcf94f1f09"
      },
      "execution_count": null,
      "outputs": [
        {
          "output_type": "execute_result",
          "data": {
            "text/plain": [
              "455"
            ]
          },
          "metadata": {},
          "execution_count": 63
        }
      ]
    },
    {
      "cell_type": "markdown",
      "source": [
        "Вероятность того что все три детали окажуться окрашенными:"
      ],
      "metadata": {
        "id": "Qdo9tVSqmJCM"
      }
    },
    {
      "cell_type": "code",
      "source": [
        "print('Вероятность того что все три детали окажуться окрашенными P(A)=', PA(m,n))"
      ],
      "metadata": {
        "colab": {
          "base_uri": "https://localhost:8080/"
        },
        "id": "vt-mEuZzl_iL",
        "outputId": "4a0633a4-4074-4164-a886-3417aff47136"
      },
      "execution_count": null,
      "outputs": [
        {
          "output_type": "stream",
          "name": "stdout",
          "text": [
            "Вероятность того что все три детали окажуться окрашенными P(A)= 0.1846\n"
          ]
        }
      ]
    },
    {
      "cell_type": "markdown",
      "source": [
        "\n",
        "\n",
        "**Задание 4**\n",
        "\n",
        "В лотерее 100 билетов. Из них 2 выигрышных. Какова вероятность того, что 2 приобретенных билета окажутся выигрышными?\n",
        "\n",
        "Всего благоприятных попыток вытащить два удачных билета m = 1\n",
        "\n",
        "Всего всевозможных сочетаний из двух билетов n = С(100,2)\n"
      ],
      "metadata": {
        "id": "WirsR4kKm5MV"
      }
    },
    {
      "cell_type": "code",
      "source": [
        "m=1\n",
        "n = math.comb(100,2)\n",
        "n"
      ],
      "metadata": {
        "colab": {
          "base_uri": "https://localhost:8080/"
        },
        "id": "kw5qk3PCniiU",
        "outputId": "722de015-b4e0-4fd6-d50d-2ba546617515"
      },
      "execution_count": null,
      "outputs": [
        {
          "output_type": "execute_result",
          "data": {
            "text/plain": [
              "4950"
            ]
          },
          "metadata": {},
          "execution_count": 65
        }
      ]
    },
    {
      "cell_type": "markdown",
      "source": [
        "Вероятность того, что 2 приобретенных билета окажутся выигрышными."
      ],
      "metadata": {
        "id": "MrpETqWIm5Pl"
      }
    },
    {
      "cell_type": "code",
      "source": [
        "print('Вероятность того, что 2 приобретенных билета окажутся выигрышными P(A)=', PA(m,n))"
      ],
      "metadata": {
        "colab": {
          "base_uri": "https://localhost:8080/"
        },
        "id": "sz4fyiEZmjhO",
        "outputId": "4f85d14a-ebcc-41d4-b72f-e6d4ef9f3a8e"
      },
      "execution_count": null,
      "outputs": [
        {
          "output_type": "stream",
          "name": "stdout",
          "text": [
            "Вероятность того, что 2 приобретенных билета окажутся выигрышными P(A)= 0.0002\n"
          ]
        }
      ]
    },
    {
      "cell_type": "code",
      "source": [],
      "metadata": {
        "id": "UyJG2o1koItt"
      },
      "execution_count": null,
      "outputs": []
    }
  ]
}