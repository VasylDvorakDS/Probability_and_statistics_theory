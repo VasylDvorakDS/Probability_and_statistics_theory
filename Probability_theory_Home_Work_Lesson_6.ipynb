{
  "nbformat": 4,
  "nbformat_minor": 0,
  "metadata": {
    "colab": {
      "provenance": [],
      "authorship_tag": "ABX9TyOZvNZX/WTJ98skbkv4e96w",
      "include_colab_link": true
    },
    "kernelspec": {
      "name": "python3",
      "display_name": "Python 3"
    },
    "language_info": {
      "name": "python"
    }
  },
  "cells": [
    {
      "cell_type": "markdown",
      "metadata": {
        "id": "view-in-github",
        "colab_type": "text"
      },
      "source": [
        "<a href=\"https://colab.research.google.com/github/VasylDvorakDS/Probability_and_statistics_theory/blob/master/Probability_theory_Home_Work_Lesson_6.ipynb\" target=\"_parent\"><img src=\"https://colab.research.google.com/assets/colab-badge.svg\" alt=\"Open In Colab\"/></a>"
      ]
    },
    {
      "cell_type": "code",
      "execution_count": null,
      "metadata": {
        "id": "AMwHLi2rFDM4"
      },
      "outputs": [],
      "source": [
        "import numpy as np\n",
        "import math\n",
        "import scipy.stats as stats"
      ]
    },
    {
      "cell_type": "markdown",
      "source": [
        "**Задача 1**\n",
        "\n",
        "Известно, что генеральная совокупность распределена нормально со средним квадратическим отклонением, равным 16. Найти доверительный интервал для оценки математического ожидания a с надежностью 0.95, если выборочная средняя M = 80, а объем выборки n = 256.\n",
        "\n",
        "**Решение:**\n",
        "\n",
        "Сначала запишем формулу для нахождения доверительного интервала, чтобы она уже была перед глазами, а потом будем думать, что и откуда находить. Поскольку известно среднее квадратичное генеральной совокупности, то используем формулу с z критерием:\n",
        "![image.png](data:image/png;base64,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)\n",
        "\n",
        "Получим z критерий в данном случае для 2.5%\n"
      ],
      "metadata": {
        "id": "N3RuGUAUGP70"
      }
    },
    {
      "cell_type": "code",
      "source": [
        "z_t=np.abs(stats.norm.ppf(0.025))\n",
        "print('Табличное значениение Z-критерия z_t=', z_t)"
      ],
      "metadata": {
        "colab": {
          "base_uri": "https://localhost:8080/"
        },
        "id": "WpgBJhQ7GOu2",
        "outputId": "2dfbdd03-59a2-48a1-d7ed-7d70ad8a8e8d"
      },
      "execution_count": null,
      "outputs": [
        {
          "output_type": "stream",
          "name": "stdout",
          "text": [
            "Табличное значениение Z-критерия z_t= 1.9599639845400545\n"
          ]
        }
      ]
    },
    {
      "cell_type": "code",
      "source": [
        "std=16\n",
        "n=256\n",
        "X_=80\n",
        "addend = z_t*std/np.sqrt(n)\n",
        "print('Доверительный интервал: ',(X_-addend, X_+addend))"
      ],
      "metadata": {
        "colab": {
          "base_uri": "https://localhost:8080/"
        },
        "id": "AqtTBB0AH2pp",
        "outputId": "b56062e2-59f9-4d5c-8e7d-cd16474fc697"
      },
      "execution_count": null,
      "outputs": [
        {
          "output_type": "stream",
          "name": "stdout",
          "text": [
            "Доверительный интервал:  (78.04003601545995, 81.95996398454005)\n"
          ]
        }
      ]
    },
    {
      "cell_type": "markdown",
      "source": [
        "**Задача 2**\n",
        "\n",
        "В результате 10 независимых измерений некоторой величины X, выполненных с одинаковой точностью, получены опытные данные: 6.9, 6.1, 6.2, 6.8, 7.5, 6.3, 6.4, 6.9, 6.7, 6.1 Предполагая, что результаты измерений подчинены нормальному закону распределения вероятностей, оценить истинное значение величины X при помощи доверительного интервала, покрывающего это значение с доверительной вероятностью 0,95.\n",
        "\n",
        "**Решение**\n",
        "\n",
        "Нам незвестна сигма генеральной совокупности значит вместо критерия Z мы будем использовать критерий Стьюдента t"
      ],
      "metadata": {
        "id": "EPdRxcyPJcn1"
      }
    },
    {
      "cell_type": "code",
      "source": [
        "a=np.array([6.9, 6.1, 6.2, 6.8, 7.5, 6.3, 6.4, 6.9, 6.7, 6.1])\n",
        "n=len(a)\n",
        "M=np.mean(a)\n",
        "D = np.var(a, ddof=1) # несмещённая дисперсия для выборки a\n",
        "t_t = stats.t.ppf(1-(1-0.95)/2, n-1)  # табличное значение критерия Стьюдента\n",
        "addend = t_t*np.sqrt(D/n)\n",
        "print('Доверительный интервал: ',(M-addend, M+addend))"
      ],
      "metadata": {
        "colab": {
          "base_uri": "https://localhost:8080/"
        },
        "id": "1MbSogr-JQ8x",
        "outputId": "2ae487d2-19e9-4521-c343-f965f403ac1f"
      },
      "execution_count": null,
      "outputs": [
        {
          "output_type": "stream",
          "name": "stdout",
          "text": [
            "Доверительный интервал:  (6.267515851399589, 6.912484148600412)\n"
          ]
        }
      ]
    },
    {
      "cell_type": "markdown",
      "source": [
        "**Задача 2**\n",
        "\n",
        "Рост дочерей 175, 167, 154, 174, 178, 148, 160, 167, 169, 170 Рост матерей  178, 165, 165, 173, 168, 155, 160, 164, 178, 175 Используя эти данные построить 95% доверительный интервал для разности среднего роста родителей и детей.\n",
        "\n",
        "**Решение**"
      ],
      "metadata": {
        "id": "cAk1YeTLNI1X"
      }
    },
    {
      "cell_type": "code",
      "source": [
        "daughters=np.array([175, 167, 154, 174, 178, 148, 160, 167, 169, 170])\n",
        "mothers=np.array([178, 165, 165, 173, 168, 155, 160, 164, 178, 175])\n",
        "n_d = len(daughters)\n",
        "n_m = len(mothers)\n",
        "M_d = np.mean(daughters)\n",
        "M_m = np.mean(mothers)\n",
        "delta = M_m- M_d #Разность средних\n",
        "D_d =np.var(daughters, ddof = 1) #несмещённая дисперсия для выборки daughters\n",
        "D_m =np.var(mothers, ddof = 1) #несмещённая дисперсия для выборки mothers\n",
        "D = (D_d+D_m)/2 # объединённая оценка дисперсии\n",
        "SE =np.sqrt(D/n_d+D/n_m) # стандартная ошибка разности средних\n",
        "df=n_d+n_m-2   #степень свободы для критерия Стюдента\n",
        "t_t = stats.t.ppf(1-(1-0.95)/2, df)   # табличное значение критерия Стьюдента\n",
        "addend = t_t*SE\n",
        "print('Доверительный интервал: ',(delta-addend, delta+addend))\n"
      ],
      "metadata": {
        "colab": {
          "base_uri": "https://localhost:8080/"
        },
        "id": "3Xn67dSILAEi",
        "outputId": "599dc41c-20d9-4d0f-c907-5924249374bd"
      },
      "execution_count": null,
      "outputs": [
        {
          "output_type": "stream",
          "name": "stdout",
          "text": [
            "Доверительный интервал:  (-6.268418034506846, 10.068418034506857)\n"
          ]
        }
      ]
    },
    {
      "cell_type": "code",
      "source": [],
      "metadata": {
        "id": "pzVdBKdKPgq5"
      },
      "execution_count": null,
      "outputs": []
    },
    {
      "cell_type": "code",
      "source": [],
      "metadata": {
        "id": "LxGJwH4BUpGp"
      },
      "execution_count": null,
      "outputs": []
    }
  ]
}