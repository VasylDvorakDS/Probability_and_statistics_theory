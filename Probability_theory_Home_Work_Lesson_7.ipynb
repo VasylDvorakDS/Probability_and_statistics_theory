{
  "nbformat": 4,
  "nbformat_minor": 0,
  "metadata": {
    "colab": {
      "provenance": [],
      "authorship_tag": "ABX9TyNyAUOWcKcCXhaR3z7kRsMZ",
      "include_colab_link": true
    },
    "kernelspec": {
      "name": "python3",
      "display_name": "Python 3"
    },
    "language_info": {
      "name": "python"
    }
  },
  "cells": [
    {
      "cell_type": "markdown",
      "metadata": {
        "id": "view-in-github",
        "colab_type": "text"
      },
      "source": [
        "<a href=\"https://colab.research.google.com/github/VasylDvorakDS/Probability_and_statistics_theory/blob/master/Probability_theory_Home_Work_Lesson_7.ipynb\" target=\"_parent\"><img src=\"https://colab.research.google.com/assets/colab-badge.svg\" alt=\"Open In Colab\"/></a>"
      ]
    },
    {
      "cell_type": "markdown",
      "source": [
        "**Задача 1.**\n",
        "\n",
        "Даны две  независимые выборки. Не соблюдается условие нормальности\n",
        "\n",
        "x1  380,420, 290\n",
        "\n",
        "y1 140,360,200,900\n",
        "\n",
        "\n",
        "Предположим, что мы выбирали уровень статистической значимости α= 0.05.\n",
        "\n",
        "В задаче необходимо сравнить две группы данных и независимые выборки. Поэтому применим критерий Манна-Уитни.\n"
      ],
      "metadata": {
        "id": "27VoDGUQupns"
      }
    },
    {
      "cell_type": "code",
      "source": [
        "import numpy as np\n",
        "import scipy.stats as stats"
      ],
      "metadata": {
        "id": "iyjiVaSwur_y"
      },
      "execution_count": null,
      "outputs": []
    },
    {
      "cell_type": "code",
      "source": [
        "a=0.05\n",
        "x1=np.array([380,420, 290])\n",
        "y1=np.array([140,360,200,900])\n",
        "answer=stats.mannwhitneyu(x1, y1)\n",
        "answer"
      ],
      "metadata": {
        "colab": {
          "base_uri": "https://localhost:8080/"
        },
        "id": "abH4HVI-vQ-7",
        "outputId": "b7297f98-6d22-4b11-df6c-e46e30eb0227"
      },
      "execution_count": null,
      "outputs": [
        {
          "output_type": "execute_result",
          "data": {
            "text/plain": [
              "MannwhitneyuResult(statistic=8.0, pvalue=0.6285714285714286)"
            ]
          },
          "metadata": {},
          "execution_count": 102
        }
      ]
    },
    {
      "cell_type": "code",
      "source": [
        "pvalue = answer[1]\n",
        "pvalue"
      ],
      "metadata": {
        "colab": {
          "base_uri": "https://localhost:8080/"
        },
        "id": "Y6OGQkGwBGzn",
        "outputId": "80ee98c4-054c-446d-f7f9-bc13d6557d0f"
      },
      "execution_count": null,
      "outputs": [
        {
          "output_type": "execute_result",
          "data": {
            "text/plain": [
              "0.6285714285714286"
            ]
          },
          "metadata": {},
          "execution_count": 103
        }
      ]
    },
    {
      "cell_type": "markdown",
      "source": [
        "Напишем функцию для отображения окончательного ответа"
      ],
      "metadata": {
        "id": "jKWfQDcNBsz5"
      }
    },
    {
      "cell_type": "code",
      "source": [
        "def show_answer(a, pvalue):\n",
        "  if pvalue > a:\n",
        "    print('pvalue=',pvalue,'; a=',a,' ; pvalue>a, что даёт нам право сделать вывод в пользу нулевой гипотезы')\n",
        "    print('Статически значимых различий между выборками нету.')\n",
        "  else:\n",
        "    print('pvalue=',pvalue,'; a=',a,' ; pvalue<=a, что даёт нам право сделать вывод в пользу альтернативной гипотезы')\n",
        "    print('Есть статистически значимые различия между выборками.')\n"
      ],
      "metadata": {
        "id": "yBdTev6hCMew"
      },
      "execution_count": null,
      "outputs": []
    },
    {
      "cell_type": "code",
      "source": [
        "show_answer(a, pvalue)"
      ],
      "metadata": {
        "colab": {
          "base_uri": "https://localhost:8080/"
        },
        "id": "qY6iOP7hFHzf",
        "outputId": "21e7ffe7-45e7-4ac0-b5b2-43a5f4540541"
      },
      "execution_count": null,
      "outputs": [
        {
          "output_type": "stream",
          "name": "stdout",
          "text": [
            "pvalue= 0.6285714285714286 ; a= 0.05  ; pvalue>a, что даёт нам право сделать вывод в пользу нулевой гипотезы\n",
            "Статически значимых различий между выборками нету.\n"
          ]
        }
      ]
    },
    {
      "cell_type": "markdown",
      "source": [
        "**Задача 2.**\n",
        "\n",
        "Исследовалось влияние препарата на уровень давления пациентов. Сначала измерялось давление до приема препарата, потом через 10 минут и через 30 минут. Есть ли статистически значимые различия?\n",
        "\n",
        "1е измерение до приема препарата: 150, 160, 165, 145, 155\n",
        "\n",
        "2е измерение через 10 минут: 140, 155, 150,  130, 135\n",
        "\n",
        "3е измерение через 30 минут: 130, 130, 120, 130, 125\n",
        "\n",
        "\n",
        "Предположим, что мы выбирали уровень статистической значимости α= 0.05.\n",
        "\n",
        "В задаче необходимо сравнить три группы данных и зависимыми выборками. Поэтому применим критерий Фридмана."
      ],
      "metadata": {
        "id": "3ASi4Jek8nMZ"
      }
    },
    {
      "cell_type": "code",
      "source": [
        "first = np.array([150, 160, 165, 145, 155])\n",
        "second = np.array([140, 155, 150, 130, 135])\n",
        "third = np.array([130, 130, 120, 130, 125])\n",
        "\n",
        "answer=stats.friedmanchisquare(first, second, third)\n",
        "answer"
      ],
      "metadata": {
        "colab": {
          "base_uri": "https://localhost:8080/"
        },
        "id": "gHGYStOVvlxu",
        "outputId": "e3e65edb-ee20-4fba-e3c2-5927e6c105b4"
      },
      "execution_count": null,
      "outputs": [
        {
          "output_type": "execute_result",
          "data": {
            "text/plain": [
              "FriedmanchisquareResult(statistic=9.578947368421062, pvalue=0.00831683351100441)"
            ]
          },
          "metadata": {},
          "execution_count": 106
        }
      ]
    },
    {
      "cell_type": "code",
      "source": [
        "pvalue = answer[1]\n",
        "pvalue"
      ],
      "metadata": {
        "colab": {
          "base_uri": "https://localhost:8080/"
        },
        "id": "iKk_PlRIGK0D",
        "outputId": "5c59840f-0ab4-4584-b344-207a4897332d"
      },
      "execution_count": null,
      "outputs": [
        {
          "output_type": "execute_result",
          "data": {
            "text/plain": [
              "0.00831683351100441"
            ]
          },
          "metadata": {},
          "execution_count": 107
        }
      ]
    },
    {
      "cell_type": "markdown",
      "source": [],
      "metadata": {
        "id": "fE8W4eR0VJZK"
      }
    },
    {
      "cell_type": "code",
      "source": [
        "show_answer(a, pvalue)"
      ],
      "metadata": {
        "colab": {
          "base_uri": "https://localhost:8080/"
        },
        "id": "mLE1cE_oGQO6",
        "outputId": "19acec5c-b4df-4631-9d26-269e889a711d"
      },
      "execution_count": null,
      "outputs": [
        {
          "output_type": "stream",
          "name": "stdout",
          "text": [
            "pvalue= 0.00831683351100441 ; a= 0.05  ; pvalue<=a, что даёт нам право сделать вывод в пользу альтернативной гипотезы\n",
            "Есть статистически значимые различия между выборками.\n"
          ]
        }
      ]
    },
    {
      "cell_type": "markdown",
      "source": [
        "Препарат влияет на давление пациентов."
      ],
      "metadata": {
        "id": "jtkSzoErYigE"
      }
    },
    {
      "cell_type": "markdown",
      "source": [
        "**Задача 3**\n",
        "\n",
        "Сравните 1 и 2 е измерения, предполагая, что 3го измерения через 30 минут не было.\n",
        "\n",
        "Предположим, что мы выбирали уровень статистической значимости α= 0.05.\n",
        "\n",
        "В задаче необходимо сравнить две группы данных и зависимыми выборками. Поэтому применим критерий Уилкоксона."
      ],
      "metadata": {
        "id": "zxck6RuVVNAY"
      }
    },
    {
      "cell_type": "code",
      "source": [
        "answer=stats.wilcoxon(first, second)\n",
        "answer"
      ],
      "metadata": {
        "colab": {
          "base_uri": "https://localhost:8080/"
        },
        "id": "3AjzIl7mWKrj",
        "outputId": "7b2ea0e2-1d2e-4487-af41-0fc8d3724644"
      },
      "execution_count": null,
      "outputs": [
        {
          "output_type": "execute_result",
          "data": {
            "text/plain": [
              "WilcoxonResult(statistic=0.0, pvalue=0.0625)"
            ]
          },
          "metadata": {},
          "execution_count": 109
        }
      ]
    },
    {
      "cell_type": "code",
      "source": [
        "pvalue = answer[1]\n",
        "pvalue"
      ],
      "metadata": {
        "colab": {
          "base_uri": "https://localhost:8080/"
        },
        "id": "QmIJ4i9zWAKf",
        "outputId": "dc1a89d4-944c-4d1f-9bc1-fd9fbc4593f3"
      },
      "execution_count": null,
      "outputs": [
        {
          "output_type": "execute_result",
          "data": {
            "text/plain": [
              "0.0625"
            ]
          },
          "metadata": {},
          "execution_count": 110
        }
      ]
    },
    {
      "cell_type": "code",
      "source": [
        "show_answer(a, pvalue)"
      ],
      "metadata": {
        "colab": {
          "base_uri": "https://localhost:8080/"
        },
        "id": "n1yHkhO8WANW",
        "outputId": "b32947dd-8542-4aed-ee4f-ff30e1a95f9d"
      },
      "execution_count": null,
      "outputs": [
        {
          "output_type": "stream",
          "name": "stdout",
          "text": [
            "pvalue= 0.0625 ; a= 0.05  ; pvalue>a, что даёт нам право сделать вывод в пользу нулевой гипотезы\n",
            "Статически значимых различий между выборками нету.\n"
          ]
        }
      ]
    },
    {
      "cell_type": "markdown",
      "source": [
        "Препарат не влияет на давление пациентов."
      ],
      "metadata": {
        "id": "ip7iuiwvYyvq"
      }
    },
    {
      "cell_type": "markdown",
      "source": [
        "**Задача 4.**\n",
        "\n",
        "Даны 3 группы  учеников плавания.\n",
        "\n",
        "В 1 группе время на дистанцию 50 м составляют:\n",
        "56, 60, 62, 55, 71, 67, 59, 58, 64, 67\n",
        "\n",
        "Вторая группа : 57, 58, 69, 48, 72, 70, 68, 71, 50, 53\n",
        "\n",
        "Третья группа: 57, 67, 49, 48, 47, 55, 66, 51, 54\n",
        "\n",
        "\n",
        "Предположим, что мы выбирали уровень статистической значимости α= 0.05.\n",
        "\n",
        "В задаче необходимо сравнить три группы и независимыми выборками. Поэтому применим критерий Крускала-Уоллиса.\n",
        "\n"
      ],
      "metadata": {
        "id": "vbskVeNVG4iV"
      }
    },
    {
      "cell_type": "code",
      "source": [
        "first = np.array([56, 60, 62, 55, 71, 67, 59, 58, 64, 67])\n",
        "second = np.array([57, 58, 69, 48, 72, 70, 68, 71, 50, 53])\n",
        "third = np.array([57, 67, 49, 48, 47, 55, 66, 51, 54])\n",
        "\n",
        "answer=stats.kruskal(first, second, third)\n",
        "answer"
      ],
      "metadata": {
        "colab": {
          "base_uri": "https://localhost:8080/"
        },
        "id": "ZlTHbNGAAAas",
        "outputId": "2f010680-b340-4bab-ad8a-ca4e9fc68ee3"
      },
      "execution_count": null,
      "outputs": [
        {
          "output_type": "execute_result",
          "data": {
            "text/plain": [
              "KruskalResult(statistic=5.465564058257224, pvalue=0.0650380998590494)"
            ]
          },
          "metadata": {},
          "execution_count": 112
        }
      ]
    },
    {
      "cell_type": "code",
      "source": [
        "pvalue = answer[1]\n",
        "pvalue"
      ],
      "metadata": {
        "colab": {
          "base_uri": "https://localhost:8080/"
        },
        "id": "YXE3evUsICJO",
        "outputId": "8e88d9d9-4330-4f76-d9d1-7bba96f8ea29"
      },
      "execution_count": null,
      "outputs": [
        {
          "output_type": "execute_result",
          "data": {
            "text/plain": [
              "0.0650380998590494"
            ]
          },
          "metadata": {},
          "execution_count": 113
        }
      ]
    },
    {
      "cell_type": "code",
      "source": [
        "show_answer(a, pvalue)"
      ],
      "metadata": {
        "colab": {
          "base_uri": "https://localhost:8080/"
        },
        "id": "pAjvnSWNIGob",
        "outputId": "ce370198-1ce2-4c9c-c9a3-f607ab578c4a"
      },
      "execution_count": null,
      "outputs": [
        {
          "output_type": "stream",
          "name": "stdout",
          "text": [
            "pvalue= 0.0650380998590494 ; a= 0.05  ; pvalue>a, что даёт нам право сделать вывод в пользу нулевой гипотезы\n",
            "Статически значимых различий между выборками нету.\n"
          ]
        }
      ]
    },
    {
      "cell_type": "markdown",
      "source": [
        "Среднее время затраченное на преодаление дистанции примерно одинаковое"
      ],
      "metadata": {
        "id": "fUhbQHKiaK6a"
      }
    },
    {
      "cell_type": "markdown",
      "source": [
        "**Задача 5**\n",
        "\n",
        "Заявляется, что партия изготавливается со средним арифметическим 2,5 см. Проверить данную гипотезу, если известно, что размеры изделий подчинены нормальному закону распределения. Объем выборки 10, уровень статистической значимости 5%\n",
        "\n",
        "2.51, 2.35, 2.74, 2.56, 2.40, 2.36, 2.65, 2.7, 2.67, 2.34\n",
        "\n",
        "Выборка подчинена нормальному закону распределения с нейзвестным среднеквадратичным отклонением.\n",
        "\n",
        "Сформулируем нулевую гипотезу. Ho при mo =2.5 см"
      ],
      "metadata": {
        "id": "ARK1H8t6IQHZ"
      }
    },
    {
      "cell_type": "code",
      "source": [
        "sizes=np.array([2.51, 2.35, 2.74, 2.56, 2.40, 2.36, 2.65, 2.7, 2.67, 2.34])\n",
        "m_1 = np.mean(sizes)\n",
        "print('Среднее значение для альтеорнативной гипотезы m_1=',m_1)\n",
        "std_1 = np.std(sizes, ddof =1)\n",
        "print('Среднее квадратичное отклонение для альтеорнативной гипотезы  std_1=', std_1)"
      ],
      "metadata": {
        "colab": {
          "base_uri": "https://localhost:8080/"
        },
        "id": "jfY93Lk2IPRZ",
        "outputId": "5221885d-025c-4acb-c2ba-7b5ad38665b1"
      },
      "execution_count": null,
      "outputs": [
        {
          "output_type": "stream",
          "name": "stdout",
          "text": [
            "Среднее значение для альтеорнативной гипотезы m_1= 2.5279999999999996\n",
            "Среднее квадратичное отклонение для альтеорнативной гипотезы  std_1= 0.1572542173961923\n"
          ]
        }
      ]
    },
    {
      "cell_type": "markdown",
      "source": [
        "Сформулируем альтернативную гипотезу. H1 при m1 =2.528, m1 > mo, std = 0.16"
      ],
      "metadata": {
        "id": "exgcwnVsM-W0"
      }
    },
    {
      "cell_type": "code",
      "source": [
        "a= 0.05\n",
        "print('Уровень значимости a=', a)"
      ],
      "metadata": {
        "colab": {
          "base_uri": "https://localhost:8080/"
        },
        "id": "g_LGYX82IKU0",
        "outputId": "6fcc493e-e50b-408f-c793-81957794aff6"
      },
      "execution_count": null,
      "outputs": [
        {
          "output_type": "stream",
          "name": "stdout",
          "text": [
            "Уровень значимости a= 0.05\n"
          ]
        }
      ]
    },
    {
      "cell_type": "markdown",
      "source": [
        "Так как у нас неизвестна сигма генеральной совокупности то выбираем критерий Стьюдента и вычисляем его по формуле\n",
        "\n",
        "![image.png](data:image/png;base64,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)"
      ],
      "metadata": {
        "id": "GwmCl1cHNpun"
      }
    },
    {
      "cell_type": "code",
      "source": [
        "n=len(sizes)\n",
        "m_0=2.5\n",
        "t_n= (m_1 - m_0)/(std_1/np.sqrt(n))\n",
        "print('Расчётное значение критерия Стьюдента t_n=', np.abs(t_n))"
      ],
      "metadata": {
        "colab": {
          "base_uri": "https://localhost:8080/"
        },
        "id": "Wt7Z9ZEvNeLH",
        "outputId": "89a15512-f6f4-49c9-de53-ab0b34831e63"
      },
      "execution_count": null,
      "outputs": [
        {
          "output_type": "stream",
          "name": "stdout",
          "text": [
            "Расчётное значение критерия Стьюдента t_n= 0.5630613661802959\n"
          ]
        }
      ]
    },
    {
      "cell_type": "markdown",
      "source": [
        "Находим критерий стюдента по таблице. Число степеней свободы n-1"
      ],
      "metadata": {
        "id": "wiyhmDqUOOk2"
      }
    },
    {
      "cell_type": "code",
      "source": [
        "t_t=stats.t.ppf(1-a,n-1)\n",
        "print(f'Табличное значение критерия Стьюдента t_t=',  t_t)"
      ],
      "metadata": {
        "colab": {
          "base_uri": "https://localhost:8080/"
        },
        "id": "5nJN7zmIN8Zz",
        "outputId": "58d564a3-6d26-4a64-dd93-8bad59d66752"
      },
      "execution_count": null,
      "outputs": [
        {
          "output_type": "stream",
          "name": "stdout",
          "text": [
            "Табличное значение критерия Стьюдента t_t= 1.8331129326536335\n"
          ]
        }
      ]
    },
    {
      "cell_type": "markdown",
      "source": [
        "t_n < t_t, 0.56 < 1.833\n",
        "Получается, что расчетное значение 0.56 попадает в область принятия нулевой гипотезы H0. Т.е. делаем вывод, что верна нулевая гипотеза о том, что размер детали в среднем 2.5 см на уровне статистической значимости 5%.\n",
        "\n",
        "**Размер детали всреднем 2,5 см**"
      ],
      "metadata": {
        "id": "XY2THbubQff7"
      }
    },
    {
      "cell_type": "code",
      "source": [],
      "metadata": {
        "id": "xpWZscboP2YI"
      },
      "execution_count": null,
      "outputs": []
    },
    {
      "cell_type": "code",
      "source": [],
      "metadata": {
        "id": "Lgpef2YNR71r"
      },
      "execution_count": null,
      "outputs": []
    }
  ]
}