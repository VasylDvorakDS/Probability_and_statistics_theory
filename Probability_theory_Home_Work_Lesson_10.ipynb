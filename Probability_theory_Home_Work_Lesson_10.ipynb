{
  "nbformat": 4,
  "nbformat_minor": 0,
  "metadata": {
    "colab": {
      "provenance": [],
      "authorship_tag": "ABX9TyMeGSzGGoOuUAQhI6oxUeqI",
      "include_colab_link": true
    },
    "kernelspec": {
      "name": "python3",
      "display_name": "Python 3"
    },
    "language_info": {
      "name": "python"
    }
  },
  "cells": [
    {
      "cell_type": "markdown",
      "metadata": {
        "id": "view-in-github",
        "colab_type": "text"
      },
      "source": [
        "<a href=\"https://colab.research.google.com/github/VasylDvorakDS/Probability_and_statistics_theory/blob/master/Probability_theory_Home_Work_Lesson_10.ipynb\" target=\"_parent\"><img src=\"https://colab.research.google.com/assets/colab-badge.svg\" alt=\"Open In Colab\"/></a>"
      ]
    },
    {
      "cell_type": "markdown",
      "source": [
        "**Задача**\n",
        "\n",
        "Провести дисперсионный анализ для определения того, есть ли различия среднего роста среди взрослых футболистов, хоккеистов и штангистов. Даны значения роста в трех группах случайно выбранных спортсменов: Футболисты: 173, 175, 180, 178, 177, 185, 183, 182. Хоккеисты: 177, 179, 180, 188, 177, 172, 171, 184, 180. Штангисты: 172, 173, 169, 177, 166, 180, 178, 177, 172, 166, 170.\n",
        "\n",
        "Выбираем уровень статистической значимости alpha=0.05.\n",
        "\n",
        "Для дисперсионного анализа сначала проверим условия применимости:\n",
        "1.\tЗначения групп должны следовать нормальному распределению. Проверим с помощью теста Шапиро - Уилка\n",
        "2.\tОднородность дисперсий. Проверим с помощью теста Барлет\n",
        "\n",
        "3.\tНезависимость измерений. Измерения производились для разных людей\n",
        "\n",
        "Желательно чтобы длинна выборок для каждой группы была одинаковой.\n",
        "\n"
      ],
      "metadata": {
        "id": "duqsXKPbaxMQ"
      }
    },
    {
      "cell_type": "code",
      "source": [
        "import numpy as np\n",
        "from scipy import stats"
      ],
      "metadata": {
        "id": "IgQ3bMmHbz5n"
      },
      "execution_count": null,
      "outputs": []
    },
    {
      "cell_type": "code",
      "source": [
        "football_players=np.array([173, 175, 180, 178, 177, 185, 183, 182])\n",
        "hockey_players=np.array([177, 179, 180, 188, 177, 172, 171, 184, 180])\n",
        "weightlifters=np.array([172, 173, 169, 177, 166, 180, 178, 177, 172, 166, 170])\n",
        "\n",
        "alpha=0.05\n",
        "\n",
        "print(len(football_players), len(hockey_players), len(weightlifters))"
      ],
      "metadata": {
        "colab": {
          "base_uri": "https://localhost:8080/"
        },
        "id": "VFIlO2f4cklR",
        "outputId": "9532acc8-a65a-46c7-c22c-2a2cc05aba3e"
      },
      "execution_count": null,
      "outputs": [
        {
          "output_type": "stream",
          "name": "stdout",
          "text": [
            "8 9 11\n"
          ]
        }
      ]
    },
    {
      "cell_type": "markdown",
      "source": [
        "Напишем функцию Шапиро-Уилка для определения нормальности"
      ],
      "metadata": {
        "id": "8qpCULHHd824"
      }
    },
    {
      "cell_type": "code",
      "source": [
        "def test_shapiro (input):\n",
        "  _,p_value=stats.shapiro(input)\n",
        "  if p_value > alpha:\n",
        "    print('Выборка из нормального распределения')\n",
        "  else:\n",
        "    print('Выборка из ненормального распределения')\n"
      ],
      "metadata": {
        "id": "ZbkrmRssdxt1"
      },
      "execution_count": null,
      "outputs": []
    },
    {
      "cell_type": "code",
      "source": [
        "test_shapiro(football_players)"
      ],
      "metadata": {
        "colab": {
          "base_uri": "https://localhost:8080/"
        },
        "id": "4zffvgF3eucZ",
        "outputId": "3ff09b64-dc21-44c6-d693-fc4f29cf4368"
      },
      "execution_count": null,
      "outputs": [
        {
          "output_type": "stream",
          "name": "stdout",
          "text": [
            "Выборка из нормального распределения\n"
          ]
        }
      ]
    },
    {
      "cell_type": "code",
      "source": [
        "test_shapiro(hockey_players)"
      ],
      "metadata": {
        "colab": {
          "base_uri": "https://localhost:8080/"
        },
        "id": "S0tYJJTie04k",
        "outputId": "dd9049d9-f86a-4169-eb30-aca858db839f"
      },
      "execution_count": null,
      "outputs": [
        {
          "output_type": "stream",
          "name": "stdout",
          "text": [
            "Выборка из нормального распределения\n"
          ]
        }
      ]
    },
    {
      "cell_type": "code",
      "source": [
        "test_shapiro(weightlifters)"
      ],
      "metadata": {
        "colab": {
          "base_uri": "https://localhost:8080/"
        },
        "id": "pfVkEQHjf3D6",
        "outputId": "a029a8fa-aae0-4db9-eaf3-0c6b53c69d27"
      },
      "execution_count": null,
      "outputs": [
        {
          "output_type": "stream",
          "name": "stdout",
          "text": [
            "Выборка из нормального распределения\n"
          ]
        }
      ]
    },
    {
      "cell_type": "markdown",
      "source": [
        "Все выборки из нормального распределения. Первое условие выполняется.\n",
        "Проведём теста Барлетта."
      ],
      "metadata": {
        "id": "logBjzeqf-Nw"
      }
    },
    {
      "cell_type": "code",
      "source": [
        "_,p_value = stats.bartlett(football_players, hockey_players, weightlifters)\n",
        "p_value"
      ],
      "metadata": {
        "colab": {
          "base_uri": "https://localhost:8080/"
        },
        "id": "jXTpfuPAf8MN",
        "outputId": "74f461cb-6eeb-4d83-913b-55cdac1a5a23"
      },
      "execution_count": null,
      "outputs": [
        {
          "output_type": "execute_result",
          "data": {
            "text/plain": [
              "0.7929254656083131"
            ]
          },
          "metadata": {},
          "execution_count": 161
        }
      ]
    },
    {
      "cell_type": "markdown",
      "source": [
        "p_value>alpha, 0.79>0.05. Различий в дисперсиях для трёх выборок нету. Выполняется второе условие однородности дисперсий.\n",
        "Все три условия применимости дисперсионного анализа выполняются.\n"
      ],
      "metadata": {
        "id": "C3U4xjQqjm8h"
      }
    },
    {
      "cell_type": "markdown",
      "source": [
        "Проведём обычный однофакторный диспенрсионный анализ **one-way ANOVA**"
      ],
      "metadata": {
        "id": "J2kQ27NP66h2"
      }
    },
    {
      "cell_type": "code",
      "source": [
        "_,p_value=stats.f_oneway(football_players, hockey_players, weightlifters)\n",
        "p_value"
      ],
      "metadata": {
        "colab": {
          "base_uri": "https://localhost:8080/"
        },
        "id": "KKujO-hz68BF",
        "outputId": "ecbecee6-f803-4d88-a3b0-8c25723497f9"
      },
      "execution_count": null,
      "outputs": [
        {
          "output_type": "execute_result",
          "data": {
            "text/plain": [
              "0.010482206918698694"
            ]
          },
          "metadata": {},
          "execution_count": 162
        }
      ]
    },
    {
      "cell_type": "markdown",
      "source": [
        "Здесь p_value<alpha (0.01<0.05). Это значит между штангистами, футбалистами и хоккеистами статистически значимые различия в росте (и в среднем росте) обноружены. Данный тест не даёт конкретный ответ между какими парами групп существуют статистически значимые различия в среднем росте. Поэтому нужно провести **Post hoc test Тьюки** для трёх выборок."
      ],
      "metadata": {
        "id": "Wn-ciP5y7Eld"
      }
    },
    {
      "cell_type": "code",
      "source": [
        "from statsmodels.stats.multicomp import pairwise_tukeyhsd\n",
        "import pandas as pd"
      ],
      "metadata": {
        "id": "rUJlgptch7Q1"
      },
      "execution_count": null,
      "outputs": []
    },
    {
      "cell_type": "markdown",
      "source": [
        "Cоздадим лист меток групп, в котором указывается, к какой группе относится каждый элемент данных."
      ],
      "metadata": {
        "id": "jT6obCVttpyf"
      }
    },
    {
      "cell_type": "code",
      "source": [
        "groups = (['football_players']*len(football_players)+['hockey_players']*len(hockey_players)+['weightlifters']*len(weightlifters))"
      ],
      "metadata": {
        "id": "wa6LkvavtcGP"
      },
      "execution_count": null,
      "outputs": []
    },
    {
      "cell_type": "markdown",
      "source": [
        "Объединим данные один массив"
      ],
      "metadata": {
        "id": "Zt5X0nOKurwX"
      }
    },
    {
      "cell_type": "code",
      "source": [
        "common = np.concatenate([football_players, hockey_players, weightlifters])"
      ],
      "metadata": {
        "id": "zikUIoOauwxP"
      },
      "execution_count": null,
      "outputs": []
    },
    {
      "cell_type": "markdown",
      "source": [
        "Создадим DataFrame"
      ],
      "metadata": {
        "id": "mCI8Yrweu6K6"
      }
    },
    {
      "cell_type": "code",
      "source": [
        "df = pd.DataFrame({'height': common, 'group': groups})"
      ],
      "metadata": {
        "id": "FjEysN0LvAcy"
      },
      "execution_count": null,
      "outputs": []
    },
    {
      "cell_type": "markdown",
      "source": [
        "Выполним тест Тьюки"
      ],
      "metadata": {
        "id": "-NIxPqsRvI22"
      }
    },
    {
      "cell_type": "code",
      "source": [
        "tukey = pairwise_tukeyhsd(endog=df['height'], groups=df['group'], alpha=alpha)\n",
        "print(f'{alpha=}')\n",
        "print()\n",
        "print(tukey)"
      ],
      "metadata": {
        "colab": {
          "base_uri": "https://localhost:8080/"
        },
        "id": "9o2AHI8jh7T0",
        "outputId": "266ce62c-7367-4a64-b99c-8c95766c1807"
      },
      "execution_count": null,
      "outputs": [
        {
          "output_type": "stream",
          "name": "stdout",
          "text": [
            "alpha=0.05\n",
            "\n",
            "          Multiple Comparison of Means - Tukey HSD, FWER=0.05          \n",
            "=======================================================================\n",
            "     group1          group2     meandiff p-adj   lower    upper  reject\n",
            "-----------------------------------------------------------------------\n",
            "football_players hockey_players  -0.4583  0.979  -6.2732  5.3566  False\n",
            "football_players  weightlifters  -6.3977 0.0219 -11.9583 -0.8372   True\n",
            "  hockey_players  weightlifters  -5.9394 0.0284 -11.3181 -0.5607   True\n",
            "-----------------------------------------------------------------------\n"
          ]
        }
      ]
    },
    {
      "cell_type": "markdown",
      "source": [
        "**Проанализируем результат.**\n",
        "\n",
        "Для этого смотрим на столбец p-adj (p_value) и сравниваем с уровнем статистической значимости alpha = 0.05. Т.е значения p-adj, которые меньше 0.05 говорят нам о наличии статистически значимых различий. Мы видим, что между  футболистами (football_players)   и штангистми (weightlifters) p-adj=0.0219<0.05, а также между хоккеистами (hockey_players) и штангистми (weightlifters) p-adj=0.0284<0.05 обнаружены статистически значимые различия и для этих строк reject = True. А вот между  футболистами (football_players) и хоккеистами (hockey_players) p-adj=0.972>0.05 не обнаружены статистически значимые различия и для этой строки reject = False.\n",
        "\n",
        "Значит статистически значимые различия в росте (и в среднем росте) не обноружены только между футболистами и хоккеистами.  А вот между штангистами и футбалистами, а также между штангистами и хоккеистами статистически значимые различия в росте (и в среднем росте) обноружены."
      ],
      "metadata": {
        "id": "6gZ_C0JlySTR"
      }
    }
  ]
}