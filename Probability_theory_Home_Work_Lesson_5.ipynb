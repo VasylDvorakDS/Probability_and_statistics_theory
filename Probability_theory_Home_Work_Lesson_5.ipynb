{
  "nbformat": 4,
  "nbformat_minor": 0,
  "metadata": {
    "colab": {
      "provenance": [],
      "authorship_tag": "ABX9TyM164m8WdgVqy3Mqke0hOmM",
      "include_colab_link": true
    },
    "kernelspec": {
      "name": "python3",
      "display_name": "Python 3"
    },
    "language_info": {
      "name": "python"
    }
  },
  "cells": [
    {
      "cell_type": "markdown",
      "metadata": {
        "id": "view-in-github",
        "colab_type": "text"
      },
      "source": [
        "<a href=\"https://colab.research.google.com/github/VasylDvorakDS/Probability_and_statistics_theory/blob/master/Probability_theory_Home_Work_Lesson_5.ipynb\" target=\"_parent\"><img src=\"https://colab.research.google.com/assets/colab-badge.svg\" alt=\"Open In Colab\"/></a>"
      ]
    },
    {
      "cell_type": "code",
      "execution_count": 1,
      "metadata": {
        "id": "8I0YRozajdkx"
      },
      "outputs": [],
      "source": [
        "import numpy as np\n",
        "import math\n",
        "import scipy.stats as stats"
      ]
    },
    {
      "cell_type": "markdown",
      "source": [
        "**Задача 1.**\n",
        "\n",
        "Когда используется критерий Стьюдента, а когда Z –критерий?\n",
        "\n",
        "\n",
        "После того, как вы определились с гипотезами, перед вами встает задача правильно определиться с критерием. Критерии делятся на параметрические и непараметрические. Параметрические критерии – это Z, t ( критерий Стьюдента) для сравнения двух выборок. Они предполагают, что выборка взята из нормально распределенной генеральной совокупности, более того предполагают равенство дисперсий в группах. Если эти условия не выполняются то лучше воспользоваться непараметрическим тестом, основанным на сумме рангов, например, критерием суммы рангов Манна—Уитни.\n",
        "\n",
        "Вся идея теста сводится к тому, чтобы найти расчетное значение и сравнить его с табличным значением, соответствующим выбранному уровню значимости  α.\n",
        "\n",
        "**Если у нас условия применимости параметрических тестов соблюдены, то в случае известной сигмы генеральной совокупности более предпочтителен Z- критерий, в противном случае -  критерий Стьюдента t.**\n"
      ],
      "metadata": {
        "id": "o_-hWiUylax5"
      }
    },
    {
      "cell_type": "markdown",
      "source": [
        "**Задача 2.**\n",
        "\n",
        "Проведите тест гипотезы. Утверждается, что шарики для подшипников, изготовленные автоматическим станком, имеют средний диаметр 17 мм. Используя односторонний критерий с α=0,05, проверить эту гипотезу, если в выборке из n=100 шариков средний диаметр оказался равным 17.5 мм, а дисперсия известна и равна 4 кв. мм.\n",
        "\n",
        "Сформулируем нулевую гипотезу. Ho при mo =17\n",
        "\n",
        "Сформулируем альтернативную гипотезу H1 m1 =17.5, m1>m0\n",
        "\n",
        "Поскольку известна средняя и дисперсия генеральной совокупности то будем испрльзовать z критерий.\n",
        "\n",
        "![image.png](data:image/png;base64,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)\n"
      ],
      "metadata": {
        "id": "H1PL0tspmVOo"
      }
    },
    {
      "cell_type": "code",
      "source": [
        "X_mean = 17.5\n",
        "n=100\n",
        "m = 17\n",
        "std = math.sqrt(4)\n",
        "print('Среднеквадратичное отклонение для генеральной совокупности std=',std)"
      ],
      "metadata": {
        "colab": {
          "base_uri": "https://localhost:8080/"
        },
        "id": "et1-D_4FlYiq",
        "outputId": "aa5520fc-c264-4bec-f3f0-2c042611ed9b"
      },
      "execution_count": 2,
      "outputs": [
        {
          "output_type": "stream",
          "name": "stdout",
          "text": [
            "Среднеквадратичное отклонение для генеральной совокупности std= 2.0\n"
          ]
        }
      ]
    },
    {
      "cell_type": "code",
      "source": [
        "z_n = (X_mean - m)/(std/math.sqrt(n))\n",
        "print('Расчётный Z-критерий z_n=', z_n)"
      ],
      "metadata": {
        "colab": {
          "base_uri": "https://localhost:8080/"
        },
        "id": "1r5nFjvUj8lS",
        "outputId": "2870e9ff-bfd2-435a-d6bb-3d611c71bf3f"
      },
      "execution_count": 3,
      "outputs": [
        {
          "output_type": "stream",
          "name": "stdout",
          "text": [
            "Расчётный Z-критерий z_n= 2.5\n"
          ]
        }
      ]
    },
    {
      "cell_type": "markdown",
      "source": [
        "Найдём табличное значение критерия Z при α=0,05"
      ],
      "metadata": {
        "id": "0uaiVnP23aff"
      }
    },
    {
      "cell_type": "code",
      "source": [
        "z_t=stats.norm.ppf(1-0.05)\n",
        "print('Табличное значениение Z-критерия z_t=', z_t)"
      ],
      "metadata": {
        "colab": {
          "base_uri": "https://localhost:8080/"
        },
        "id": "F6fvEf3e3ncB",
        "outputId": "43a722cb-f523-451e-8ed9-b3642392d49b"
      },
      "execution_count": 4,
      "outputs": [
        {
          "output_type": "stream",
          "name": "stdout",
          "text": [
            "Табличное значениение Z-критерия z_t= 1.6448536269514722\n"
          ]
        }
      ]
    },
    {
      "cell_type": "markdown",
      "source": [
        "z_n>z_t,     2.5>1.64\n",
        "Получается, что расчетное значение 2.5 попадает в область принятия альтернативной гипотезы H1. Т.е. делаем вывод, что верна альтернативная гипотеза о том, что размеры деталей на самом деле не равны в среднем 17 мм и на уровне значимости 5%.\n",
        "\n",
        "**Детали не имеют средний диаметр 17 мм**"
      ],
      "metadata": {
        "id": "whIz9q5m4gre"
      }
    },
    {
      "cell_type": "markdown",
      "source": [
        "**Задача 3**\n",
        "\n",
        "Проведите тест гипотезы. Продавец утверждает, что средний вес пачки печенья составляет 200 г. Из партии извлечена выборка из 10 пачек. Вес каждой пачки составляет: 202, 203, 199, 197, 195, 201, 200, 204, 194, 190. Известно, что их веса распределены нормально. Верно ли утверждение продавца, если учитывать, что доверительная вероятность равна 99%? (Провести двусторонний тест.)\n",
        "\n",
        "Сформулируем нулевую гипотезу. Ho при mo =200"
      ],
      "metadata": {
        "id": "Q-f_oGUnt6VR"
      }
    },
    {
      "cell_type": "code",
      "source": [
        "M_p=np.array([202, 203, 199, 197, 195, 201, 200, 204, 194, 190])\n",
        "m_1 = np.mean(M_p)\n",
        "print('Среднее значение для альтеорнативной гипотезы m_1=',m_1)\n",
        "std_1 = np.std(M_p, ddof =1)\n",
        "print('Среднее квадратичное отклонение для альтеорнативной гипотезы  std_1=', std_1)\n"
      ],
      "metadata": {
        "id": "I876g21Vj8ys",
        "colab": {
          "base_uri": "https://localhost:8080/"
        },
        "outputId": "042c278e-6e70-44df-f3ce-b964055c6b24"
      },
      "execution_count": 5,
      "outputs": [
        {
          "output_type": "stream",
          "name": "stdout",
          "text": [
            "Среднее значение для альтеорнативной гипотезы m_1= 198.5\n",
            "Среднее квадратичное отклонение для альтеорнативной гипотезы  std_1= 4.453463071962462\n"
          ]
        }
      ]
    },
    {
      "cell_type": "markdown",
      "source": [
        "Сформулируем альтернативную гипотезу. H1 при m1 =198.5, m1< mo, 198.5 < 200, std = 4.45\n",
        "\n"
      ],
      "metadata": {
        "id": "4mTPpLMc6_ZO"
      }
    },
    {
      "cell_type": "markdown",
      "source": [
        "Уровень значимости вычисляется как 1-0.99. Где доверительная вероятоность 0.99."
      ],
      "metadata": {
        "id": "-_VTuoJD-PKW"
      }
    },
    {
      "cell_type": "code",
      "source": [
        "a= 1-0.99\n",
        "print('Уровень значимости a=', a)"
      ],
      "metadata": {
        "id": "zSyWOlXBj82U",
        "colab": {
          "base_uri": "https://localhost:8080/"
        },
        "outputId": "9c1fc944-fd99-4bb1-c508-b209751a9cb8"
      },
      "execution_count": 6,
      "outputs": [
        {
          "output_type": "stream",
          "name": "stdout",
          "text": [
            "Уровень значимости a= 0.010000000000000009\n"
          ]
        }
      ]
    },
    {
      "cell_type": "markdown",
      "source": [
        "Так как у нас неизвестна сигма генеральной совокупности то выбираем критерий Стьюдента и вычисляем его по формуле\n",
        "\n",
        "![image.png](data:image/png;base64,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)\n",
        "\n",
        "\n"
      ],
      "metadata": {
        "id": "iauTohB1-3rD"
      }
    },
    {
      "cell_type": "code",
      "source": [
        "n=10\n",
        "m_0=200\n",
        "t_n= (m_1 - m_0)/(std_1/math.sqrt(n))\n",
        "print('Расчётное значение критерия Стьюдента t_n=', np.abs(t_n))"
      ],
      "metadata": {
        "id": "kn8GEyn4-nLA",
        "colab": {
          "base_uri": "https://localhost:8080/"
        },
        "outputId": "44931263-b98a-4a43-afab-9583460c73a9"
      },
      "execution_count": 7,
      "outputs": [
        {
          "output_type": "stream",
          "name": "stdout",
          "text": [
            "Расчётное значение критерия Стьюдента t_n= 1.0651074037450896\n"
          ]
        }
      ]
    },
    {
      "cell_type": "markdown",
      "source": [
        "Так как нам необходимо провести двухсторонний тест то уровень значимости делим на два и получаем 0.005, число степеней свободы n-1=9. Находим критерий Стьюдента  по таблице."
      ],
      "metadata": {
        "id": "Pnc54gqgDlCU"
      }
    },
    {
      "cell_type": "code",
      "source": [
        "t_t=stats.t.ppf(1-0.005,len(M_p)-1)\n",
        "print(f'Табличное значение критерия Стьюдента t_t=',  t_t)"
      ],
      "metadata": {
        "id": "vX0osMVKDtXn",
        "colab": {
          "base_uri": "https://localhost:8080/"
        },
        "outputId": "058de45c-4708-4a66-bbba-26f730243930"
      },
      "execution_count": 8,
      "outputs": [
        {
          "output_type": "stream",
          "name": "stdout",
          "text": [
            "Табличное значение критерия Стьюдента t_t= 3.2498355415921254\n"
          ]
        }
      ]
    },
    {
      "cell_type": "markdown",
      "source": [
        "t_n < t_t, 1.065 < 3.2498\n",
        "Получается, что расчетное значение 1.065 попадает в область принятия нулевой гипотезы H0. Т.е. делаем вывод, что верна нулевая гипотеза о том, что вес пачки печения в среднем 200гр на уровне значимости 1% при двухстороннем тесте.\n",
        "\n",
        "**Вес пачки печенья в среднем 200 гр**"
      ],
      "metadata": {
        "id": "Ag8yMMfEAkIe"
      }
    },
    {
      "cell_type": "markdown",
      "source": [
        "**Задача 4**\n",
        "\n",
        "Задачу решать с помощью функции. Есть ли статистически значимые различия в росте матерей и дочерей? Рост матерей 172, 177, 158, 170, 178,175, 164, 160, 169, 165 Рост взрослых дочерей: 173, 175, 162, 174, 175, 168, 155, 170, 160, 163.\n",
        "\n",
        "Выборка роста матерей - это нулевая гипотеза H0.\n",
        "\n",
        "Выборка роста дочерей - это альтернативная гипотеза H1.\n",
        "\n",
        "В задаче неизвестна сигма генеральной совокупности поэтому выбираем критерий Стьюдента.\n",
        "\n",
        "Если в результате вычислений p_value окажется больше уровня статистической значимости то верна нулевая гипотеза H0, т.е. статистических различий в росте матерей и дочерей нету.\n",
        "\n",
        "Если в результате вычислений p_value окажется меньше уровня статистической значимости то верна альтернативная гипотеза H1, т.е. есть статистические различия в росте матерей и дочерей.\n",
        "\n",
        "Рост матерей и дочерей это зависимые выборки поэтому применим функцию для нахождения критерия Стьюдента по зависимым выборкам."
      ],
      "metadata": {
        "id": "oflvs4tvGh4g"
      }
    },
    {
      "cell_type": "code",
      "source": [
        "mothers = np.array([172, 177, 158, 170, 178,175, 164, 160, 169, 165])\n",
        "daughters = np.array([173, 175, 162, 174, 175, 168, 155, 170, 160, 163])\n",
        "function=stats.ttest_rel(mothers, daughters)\n",
        "t=function[0]\n",
        "p_value=function[1]\n",
        "print('Расчётное значение критерия стьюдента t=', t)\n",
        "print('Расчётное значение p_value=', p_value)"
      ],
      "metadata": {
        "colab": {
          "base_uri": "https://localhost:8080/"
        },
        "id": "ZnSdzFfo_5B5",
        "outputId": "83ca908d-1913-4ed2-9ee7-4d5f4022052b"
      },
      "execution_count": 9,
      "outputs": [
        {
          "output_type": "stream",
          "name": "stdout",
          "text": [
            "Расчётное значение критерия стьюдента t= 0.6648478531431979\n",
            "Расчётное значение p_value= 0.5228168632983574\n"
          ]
        }
      ]
    },
    {
      "cell_type": "code",
      "source": [
        "a=float(input(\"Введите уровень статистической значимости \"))\n",
        "print()\n",
        "print('Ответ:')\n",
        "if p_value>a:\n",
        "    print('Статистически значимых различий в росте матерей и дочерей нету')\n",
        "else:\n",
        "    print('Есть статистически значимые различия в росте матерей и дочерей')"
      ],
      "metadata": {
        "id": "t1qoclJaKiy_",
        "colab": {
          "base_uri": "https://localhost:8080/"
        },
        "outputId": "17ff48c8-8e54-4e67-eb15-6757be6bf90a"
      },
      "execution_count": 10,
      "outputs": [
        {
          "output_type": "stream",
          "name": "stdout",
          "text": [
            "Введите уровень статистической значимости 0.05\n",
            "\n",
            "Ответ:\n",
            "Статистически значимых различий в росте матерей и дочерей нету\n"
          ]
        }
      ]
    },
    {
      "cell_type": "code",
      "source": [],
      "metadata": {
        "id": "qzX80TkvS_iw"
      },
      "execution_count": 10,
      "outputs": []
    },
    {
      "cell_type": "code",
      "source": [],
      "metadata": {
        "id": "qdTMiB4HLq08"
      },
      "execution_count": 10,
      "outputs": []
    }
  ]
}