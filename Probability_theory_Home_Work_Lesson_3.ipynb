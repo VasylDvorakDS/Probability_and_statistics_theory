{
  "nbformat": 4,
  "nbformat_minor": 0,
  "metadata": {
    "colab": {
      "provenance": [],
      "authorship_tag": "ABX9TyPtDowFtLBTrH3peK+T0FKm",
      "include_colab_link": true
    },
    "kernelspec": {
      "name": "python3",
      "display_name": "Python 3"
    },
    "language_info": {
      "name": "python"
    }
  },
  "cells": [
    {
      "cell_type": "markdown",
      "metadata": {
        "id": "view-in-github",
        "colab_type": "text"
      },
      "source": [
        "<a href=\"https://colab.research.google.com/github/VasylDvorakDS/Probability_and_statistics_theory/blob/master/Probability_theory_Home_Work_Lesson_3.ipynb\" target=\"_parent\"><img src=\"https://colab.research.google.com/assets/colab-badge.svg\" alt=\"Open In Colab\"/></a>"
      ]
    },
    {
      "cell_type": "markdown",
      "source": [
        "EDA (exploratory data analysis) или Разведочный анализ\n",
        "\n",
        "# Задача 1:\n",
        "Даны значения зарплат из выборки выпускников: 100, 80, 75, 77, 89, 33, 45, 25, 65, 17, 30, 24, 57, 55, 70, 75, 65, 84, 90, 150. Посчитать (желательно без использования статистических методов наподобие std, var, mean) среднее арифметическое, среднее квадратичное отклонение, смещенную и несмещенную оценки дисперсий для данной выборки.\n",
        "\n",
        "Формула смещённой дисперсии\n",
        "\n",
        "\n",
        "![image.png](data:image/png;base64,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)\n",
        "\n",
        "\n",
        "Формула несмещённой дисперсии:\n",
        "\n",
        "\n",
        "![image.png](data:image/png;base64,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)\n"
      ],
      "metadata": {
        "id": "_OJQG8NGbRkI"
      }
    },
    {
      "cell_type": "code",
      "source": [
        "import numpy as np\n",
        "import math"
      ],
      "metadata": {
        "id": "UAwQJXF7g7WL"
      },
      "execution_count": null,
      "outputs": []
    },
    {
      "cell_type": "code",
      "source": [
        "x= np.array([100, 80, 75, 77, 89, 33, 45, 25, 65, 17, 30, 24, 57, 55, 70, 75, 65, 84, 90, 150])\n",
        "\n",
        "n=len(x)\n",
        "Xmean=np.sum(x)/n\n",
        "print('Среднее арифметическое: ',Xmean,'=',np.mean(x))\n",
        "\n",
        "sum_sq=0\n",
        "for k in x:\n",
        "  sum_sq+=(k-Xmean)**2\n",
        "\n",
        "S_2 = sum_sq/n\n",
        "print('Смещённая дисперсия: ',S_2,'=',np.var(x))\n",
        "\n",
        "S=np.sqrt(S_2)\n",
        "print('Cредне квадратичное отклонение: ',S,'=',np.std(x))\n",
        "\n",
        "S_2_sm = sum_sq/(n-1)\n",
        "print('Несмещённая дисперсия: ',S_2_sm,'=',np.var(x,ddof=1))\n",
        "\n"
      ],
      "metadata": {
        "colab": {
          "base_uri": "https://localhost:8080/"
        },
        "id": "ZU6Y56OEb5d2",
        "outputId": "4d16ff73-029c-425a-f433-50eeabb22e13"
      },
      "execution_count": null,
      "outputs": [
        {
          "output_type": "stream",
          "name": "stdout",
          "text": [
            "Среднее арифметическое:  65.3 = 65.3\n",
            "Смещённая дисперсия:  950.11 = 950.11\n",
            "Cредне квадратичное отклонение:  30.823854398825596 = 30.823854398825596\n",
            "Несмещённая дисперсия:  1000.1157894736842 = 1000.1157894736842\n"
          ]
        }
      ]
    },
    {
      "cell_type": "markdown",
      "source": [
        "**Задача 2.**\n",
        "    \n",
        "  В первом ящике находится 8 мячей, из которых 5 - белые. Во втором ящике -\n",
        "  12 мячей, из которых 5 белых. Из первого ящика вытаскивают случайным образом два мяча, из второго - 4. Какова вероятность того, что 3 мяча белые?\n",
        "\n"
      ],
      "metadata": {
        "id": "gTMW9nNaj0Rv"
      }
    },
    {
      "cell_type": "markdown",
      "source": [
        "\n",
        "\n",
        "Возможные комбинации когда три мяча белые и сумма комбинаций:\n",
        "\n",
        "(ЧЧ)(БББЧ)+(БЧ)(ББЧЧ)+(ББ)(ЧЧЧБ)"
      ],
      "metadata": {
        "id": "wWhIDd4FmxrL"
      }
    },
    {
      "cell_type": "markdown",
      "source": [
        "Вероятность того что произойдёт комбинация (ЧЧ)(БББЧ)"
      ],
      "metadata": {
        "id": "mhiNM7N4717q"
      }
    },
    {
      "cell_type": "code",
      "source": [
        "Pbbwwwb=(math.comb(3,2)/(math.comb(8,2)))*(math.comb(5,3)*math.comb(7,1)/(math.comb(12,4)))\n",
        "Pbbwwwb"
      ],
      "metadata": {
        "colab": {
          "base_uri": "https://localhost:8080/"
        },
        "id": "XWS1K2bP7xSO",
        "outputId": "183a4e3d-28f9-4452-ceae-9f6421c73061"
      },
      "execution_count": null,
      "outputs": [
        {
          "output_type": "execute_result",
          "data": {
            "text/plain": [
              "0.01515151515151515"
            ]
          },
          "metadata": {},
          "execution_count": 73
        }
      ]
    },
    {
      "cell_type": "markdown",
      "source": [
        "Вероятность того что произойдёт комбинация (БЧ)(ББЧЧ)"
      ],
      "metadata": {
        "id": "1Wjprjqc9jFD"
      }
    },
    {
      "cell_type": "code",
      "source": [
        "Pwbwwbb=(math.comb(5,1)*math.comb(3,1)/(math.comb(8,2)))*(math.comb(5,2)*math.comb(7,2)/(math.comb(12,4)))\n",
        "Pwbwwbb"
      ],
      "metadata": {
        "colab": {
          "base_uri": "https://localhost:8080/"
        },
        "id": "hFaaP3Lj9n1C",
        "outputId": "7f7626cf-bacf-46ba-b1e1-3f9f232c9229"
      },
      "execution_count": null,
      "outputs": [
        {
          "output_type": "execute_result",
          "data": {
            "text/plain": [
              "0.22727272727272727"
            ]
          },
          "metadata": {},
          "execution_count": 74
        }
      ]
    },
    {
      "cell_type": "markdown",
      "source": [
        "Вероятность того что произойдёт комбинация (ББ)(ЧЧЧБ)"
      ],
      "metadata": {
        "id": "n8_C3rj2-mPd"
      }
    },
    {
      "cell_type": "code",
      "source": [
        "Pwwbbbw=(math.comb(5,2)/(math.comb(8,2)))*(math.comb(7,3)*math.comb(5,1)/(math.comb(12,4)))\n",
        "Pwwbbbw"
      ],
      "metadata": {
        "colab": {
          "base_uri": "https://localhost:8080/"
        },
        "id": "zoeuhDN9-sLb",
        "outputId": "160e298b-1ff5-4222-e820-bdd141296656"
      },
      "execution_count": null,
      "outputs": [
        {
          "output_type": "execute_result",
          "data": {
            "text/plain": [
              "0.12626262626262627"
            ]
          },
          "metadata": {},
          "execution_count": 75
        }
      ]
    },
    {
      "cell_type": "code",
      "source": [
        "P_answer = Pbbwwwb+Pwbwwbb+Pwwbbbw\n",
        "\n",
        "print(\"Вероятность того, что три мяча белые\", round(P_answer, 3))"
      ],
      "metadata": {
        "colab": {
          "base_uri": "https://localhost:8080/"
        },
        "id": "T2SDcCLwmVij",
        "outputId": "6faf4736-98c5-41d5-9f13-65588e3f3749"
      },
      "execution_count": null,
      "outputs": [
        {
          "output_type": "stream",
          "name": "stdout",
          "text": [
            "Вероятность того, что три мяча белые 0.369\n"
          ]
        }
      ]
    },
    {
      "cell_type": "markdown",
      "source": [
        " **Задача 3:**\n",
        "\n",
        "  На соревновании по биатлону один из трех спортсменов стреляет и попадает в мишень. Вероятность попадания для первого спортсмена равна 0.9, для второго — 0.8, для третьего — 0.6. Найти вероятность того, что выстрел произведен: a). первым спортсменом б). вторым спортсменом в). третьим спортсменом.\n",
        "\n",
        "  Вероятность того что произойдёт попадание равна:\n",
        "\n",
        "  $$P(A) = P(B1)*P(A|B1)+P(B2)*P(A|B2)+P(B3)*P(A|B3)$$\n",
        "P(B1)=P(B2)=P(B3)=1/3 - вероятность того что первый или второй или третий стрелок выстрелит\n",
        "\n",
        "Вероятность попадания для первого спортсмена равна P(A|B1)= 0.9, для второго — P(A|B2)= 0.8, для третьего — P(A|B3)= 0.6.\n"
      ],
      "metadata": {
        "id": "lhUAF67BpNh3"
      }
    },
    {
      "cell_type": "code",
      "source": [
        "PA = (1/3)*(0.9+0.8+0.6)\n",
        "PA\n"
      ],
      "metadata": {
        "colab": {
          "base_uri": "https://localhost:8080/"
        },
        "id": "292Futd7pJ0x",
        "outputId": "583ef796-49fa-4b62-aa20-76d06e9911f4"
      },
      "execution_count": null,
      "outputs": [
        {
          "output_type": "execute_result",
          "data": {
            "text/plain": [
              "0.7666666666666667"
            ]
          },
          "metadata": {},
          "execution_count": 77
        }
      ]
    },
    {
      "cell_type": "markdown",
      "source": [
        "Далее воспользуемся формулой Бейса и напишем функцию для расчёта.\n",
        "\n",
        "![image.png](data:image/png;base64,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)\n"
      ],
      "metadata": {
        "id": "Hzp5nC86tO3_"
      }
    },
    {
      "cell_type": "code",
      "source": [
        "def beies(PAB,PB,PA,n):\n",
        "  print(f'Вероятность того что выстрел произвёл {n}-й спортсмен: ', round(PAB*PB/PA,3))"
      ],
      "metadata": {
        "id": "JIohp0FttJgz"
      },
      "execution_count": null,
      "outputs": []
    },
    {
      "cell_type": "code",
      "source": [
        "beies(0.9,1/3,PA,1)\n",
        "beies(0.8,1/3,PA,2)\n",
        "beies(0.6,1/3,PA,3)"
      ],
      "metadata": {
        "colab": {
          "base_uri": "https://localhost:8080/"
        },
        "id": "g4EXAj4Nuf-h",
        "outputId": "3d96f220-ae06-460b-920d-6d8564c2f806"
      },
      "execution_count": null,
      "outputs": [
        {
          "output_type": "stream",
          "name": "stdout",
          "text": [
            "Вероятность того что выстрел произвёл 1-й спортсмен:  0.391\n",
            "Вероятность того что выстрел произвёл 2-й спортсмен:  0.348\n",
            "Вероятность того что выстрел произвёл 3-й спортсмен:  0.261\n"
          ]
        }
      ]
    },
    {
      "cell_type": "markdown",
      "source": [
        "  **Задача 4**\n",
        "  \n",
        "  В университет на факультеты A и B поступило равное количество студентов, а на факультет C студентов поступило столько же, сколько на A и B вместе. Вероятность того, что студент факультета A сдаст первую сессию, равна 0.8. Для студента факультета B эта вероятность равна 0.7, а для студента факультета C - 0.9. Студент сдал первую сессию. Какова вероятность, что он учится: a). на факультете A б). на факультете B в). на факультете C?\n",
        "\n",
        "  На факультете A или B  учится одна часть студентов\n",
        "  На факультете С учится две части студентов\n",
        "\n",
        "  Вероятность того что студент учится на факультете A или B : 1/4\n",
        "  Вероятность того что студент учится на факультете С : 2/4=1/2\n",
        "\n",
        "  Как и в предыдущей задаче воспользуемся формулой для расчёта вероятности сдачи сессии:\n",
        "\n",
        "  $$P(A) = P(B1)*P(A|B1)+P(B2)*P(A|B2)+P(B3)*P(A|B3)$$\n",
        "\n",
        "\n"
      ],
      "metadata": {
        "id": "KXsVFHi6xJ8P"
      }
    },
    {
      "cell_type": "code",
      "source": [
        "PA = (1/4)*0.8+(1/4)*0.7+(1/2)*0.9\n",
        "PA"
      ],
      "metadata": {
        "colab": {
          "base_uri": "https://localhost:8080/"
        },
        "id": "xFqkxapqwabH",
        "outputId": "e376675b-1872-455f-9e56-040b5e7bf4d9"
      },
      "execution_count": null,
      "outputs": [
        {
          "output_type": "execute_result",
          "data": {
            "text/plain": [
              "0.825"
            ]
          },
          "metadata": {},
          "execution_count": 80
        }
      ]
    },
    {
      "cell_type": "markdown",
      "source": [
        "Далее воспользуемся формулой Бейеса и напишем для неё функцию"
      ],
      "metadata": {
        "id": "J7sF7EDTzSu_"
      }
    },
    {
      "cell_type": "code",
      "source": [
        "def beies(PAB,PB,PA,n):\n",
        "  print(f'Вероятность того что сдал сессию студент из {n}-й группы: ', round(PAB*PB/PA,3))"
      ],
      "metadata": {
        "id": "qoDeN_7bzObm"
      },
      "execution_count": null,
      "outputs": []
    },
    {
      "cell_type": "code",
      "source": [
        "beies(0.8,1/4,PA,1)\n",
        "beies(0.7,1/4,PA,2)\n",
        "beies(0.9,2/4,PA,3)"
      ],
      "metadata": {
        "colab": {
          "base_uri": "https://localhost:8080/"
        },
        "id": "WLq884ijzy54",
        "outputId": "6257c0d7-42e5-4b0f-98a0-ff0d84b9063b"
      },
      "execution_count": null,
      "outputs": [
        {
          "output_type": "stream",
          "name": "stdout",
          "text": [
            "Вероятность того что сдал сессию студент из 1-й группы:  0.242\n",
            "Вероятность того что сдал сессию студент из 2-й группы:  0.212\n",
            "Вероятность того что сдал сессию студент из 3-й группы:  0.545\n"
          ]
        }
      ]
    },
    {
      "cell_type": "markdown",
      "source": [
        "**Задача 5**\n",
        "\n",
        "Устройство состоит из трех деталей. Для первой детали вероятность выйти из строя в первый месяц равна 0.1, для второй - 0.2, для третьей - 0.25. Какова вероятность того, что в первый месяц выйдут из строя: а). все детали б). только две детали в). хотя бы одна деталь г). от одной до двух деталей?"
      ],
      "metadata": {
        "id": "makxo7w50msi"
      }
    },
    {
      "cell_type": "code",
      "source": [
        "Pall=round(0.1*0.2*0.25, 3)\n",
        "print('Вероятность того, что в первый месяц выйдут из строя все детали',Pall)"
      ],
      "metadata": {
        "colab": {
          "base_uri": "https://localhost:8080/"
        },
        "id": "EKcfJhspz9OH",
        "outputId": "085987e2-24ce-4a9b-a698-0627ffa911e8"
      },
      "execution_count": null,
      "outputs": [
        {
          "output_type": "stream",
          "name": "stdout",
          "text": [
            "Вероятность того, что в первый месяц выйдут из строя все детали 0.005\n"
          ]
        }
      ]
    },
    {
      "cell_type": "code",
      "source": [
        "P2=round(0.1*0.2*(1-0.25)+0.1*(1-0.2)*0.25+(1-0.1)*0.2*0.25, 3)\n",
        "print('Вероятность того, что в первый месяц выйдут из строя только две детали',P2)"
      ],
      "metadata": {
        "colab": {
          "base_uri": "https://localhost:8080/"
        },
        "id": "NMskPIlv1JmG",
        "outputId": "53e4c9b7-420c-4ffa-f775-954761debb6b"
      },
      "execution_count": null,
      "outputs": [
        {
          "output_type": "stream",
          "name": "stdout",
          "text": [
            "Вероятность того, что в первый месяц выйдут из строя только две детали 0.08\n"
          ]
        }
      ]
    },
    {
      "cell_type": "code",
      "source": [
        "P12 = P2 + round(0.1*(1-0.2)*(1-0.25)+(1-0.1)*0.2*(1-0.25)+(1-0.1)*(1-0.2)*0.25,3)\n",
        "print('Вероятность того, что в первый месяц выйдут из строя от одной до двух деталей',P12)"
      ],
      "metadata": {
        "colab": {
          "base_uri": "https://localhost:8080/"
        },
        "id": "j-HOBXsp1zny",
        "outputId": "247fcf4f-b86a-4a00-a7b0-a640e4897558"
      },
      "execution_count": null,
      "outputs": [
        {
          "output_type": "stream",
          "name": "stdout",
          "text": [
            "Вероятность того, что в первый месяц выйдут из строя от одной до двух деталей 0.455\n"
          ]
        }
      ]
    },
    {
      "cell_type": "code",
      "source": [
        "P123=P12+Pall\n",
        "print('Вероятность того, что в первый месяц выйдут из строя хотябы одна деталь ',P123)"
      ],
      "metadata": {
        "colab": {
          "base_uri": "https://localhost:8080/"
        },
        "id": "45p0wCPS3dp3",
        "outputId": "b2eb41dd-2210-4e01-8057-03c99f09c2fe"
      },
      "execution_count": null,
      "outputs": [
        {
          "output_type": "stream",
          "name": "stdout",
          "text": [
            "Вероятность того, что в первый месяц выйдут из строя хотябы одна деталь  0.46\n"
          ]
        }
      ]
    },
    {
      "cell_type": "code",
      "source": [],
      "metadata": {
        "id": "eSm_7Rww4DZl"
      },
      "execution_count": null,
      "outputs": []
    }
  ]
}