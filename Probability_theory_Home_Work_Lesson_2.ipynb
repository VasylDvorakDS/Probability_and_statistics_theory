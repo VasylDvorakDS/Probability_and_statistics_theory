{
  "nbformat": 4,
  "nbformat_minor": 0,
  "metadata": {
    "colab": {
      "provenance": [],
      "authorship_tag": "ABX9TyPzL9ZTBRkX5VeAiATprIPH",
      "include_colab_link": true
    },
    "kernelspec": {
      "name": "python3",
      "display_name": "Python 3"
    },
    "language_info": {
      "name": "python"
    }
  },
  "cells": [
    {
      "cell_type": "markdown",
      "metadata": {
        "id": "view-in-github",
        "colab_type": "text"
      },
      "source": [
        "<a href=\"https://colab.research.google.com/github/VasylDvorakDS/Probability_and_statistics_theory/blob/master/Probability_theory_Home_Work_Lesson_2.ipynb\" target=\"_parent\"><img src=\"https://colab.research.google.com/assets/colab-badge.svg\" alt=\"Open In Colab\"/></a>"
      ]
    },
    {
      "cell_type": "markdown",
      "source": [
        "Вероятоность расперенделения случайной величины находитс по фоормуле Бернулли:\n",
        "\n",
        "Cлучайная дискретная величина Х имеет биномиальное распределение с переменными k,n и p,  если  вероятность ее распределения задается следующим уравнением:\n",
        "\n",
        "![Снимок экрана 2024-08-23 190814.png](data:image/png;base64,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)\n",
        "\n",
        "\n",
        "\tk ,число наступления события (дискретная величина из отрезка [0, n])\n",
        "\tn -  число испытаний\n",
        "\tp - вероятность наступления события A в  независимых испытаниях,\n",
        "\tq = 1 – p. Противоположная вероятность\n",
        "\n",
        "  Напишем функцию для расчёта вероятности по формуле Бернулли:"
      ],
      "metadata": {
        "id": "_bWxDwBA7xXm"
      }
    },
    {
      "cell_type": "code",
      "source": [
        "import math\n",
        "def P_Bernulli(n,k,p,):\n",
        "  P=math.comb(n,k)*(p**k)*(1-p)**(n-k)\n",
        "  return round(P, 3)"
      ],
      "metadata": {
        "id": "LFbJpmSq8dHm"
      },
      "execution_count": null,
      "outputs": []
    },
    {
      "cell_type": "markdown",
      "source": [
        "Распределение Пуассона\n",
        "В том случае, если вероятность наступления события очень маленькая  (< 0.1), а число испытаний очень большое, применяется формула Пуассона. Распределение Пуассона это также дискретное распределение и является частным случаем биномиального распределения.\n",
        "Чтобы найти вероятность наступления события за фиксированную единицу измерения или вероятность, что событие наступит m раз из n, применяем формулу Пуассона. Эта формула дает более точные значения вероятности в такой ситуации.\n",
        "\n",
        "![image.png](data:image/png;base64,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)\n",
        "\n",
        "\n",
        "Здесь появляется величина λ=p*n. Это средняя интенсивность наступления события на некоторую единицу измерения.\n",
        "\n",
        "Напишем функцию для расчёта вероятности по формуле Пуассона:"
      ],
      "metadata": {
        "id": "IY05vkU87xd_"
      }
    },
    {
      "cell_type": "code",
      "source": [
        "def P_Puasson(n,m,p,):\n",
        "  P=((n*p)**m) * math.exp(-n*p) /(math.factorial(m))\n",
        "  return round(P, 3)"
      ],
      "metadata": {
        "id": "5rAr0JYV9vCV"
      },
      "execution_count": null,
      "outputs": []
    },
    {
      "cell_type": "markdown",
      "source": [
        "**Задача 1:**\n",
        "Вероятность того, что стрелок попадет в мишень, выстрелив один раз, равна 0.8. Стрелок выстрелил 100 раз. Найдите вероятность того, что стрелок попадет в цель ровно 85 раз.\n",
        "\n",
        "\n",
        "Вероятность равна 0.8>0.1. Воспользуемся формулой Бернулли.\n"
      ],
      "metadata": {
        "id": "8nMUycFi7xhM"
      }
    },
    {
      "cell_type": "code",
      "source": [
        "print(\"Ответ задачи\", round(P_Bernulli(n=100,k=85,p=0.8),3))"
      ],
      "metadata": {
        "colab": {
          "base_uri": "https://localhost:8080/"
        },
        "id": "lmvUJ_p3Azqm",
        "outputId": "fe1d6492-9187-41ef-fa6e-a25100131302"
      },
      "execution_count": null,
      "outputs": [
        {
          "output_type": "stream",
          "name": "stdout",
          "text": [
            "Ответ задачи 0.048\n"
          ]
        }
      ]
    },
    {
      "cell_type": "markdown",
      "source": [
        "**Задача 2:**\n",
        "Вероятность того, что лампочка перегорит в течение первого дня эксплуатации, равна 0.0004. В жилом комплексе после ремонта в один день включили 5000 новых лампочек. Какова вероятность, что ни одна из них не перегорит в первый день? Какова вероятность, что перегорят ровно две?\n",
        "\n",
        "\n",
        "Вероятность равна 0.0004<0.1. Воспользуемся формулой Пуассона.\n",
        "\n"
      ],
      "metadata": {
        "id": "S-rzrOY8B68C"
      }
    },
    {
      "cell_type": "code",
      "source": [
        "print(\"Вероятность, что ни одна лампочка не перегорит в первый день:  \", P_Puasson(n=5000,m=0,p=0.0004))"
      ],
      "metadata": {
        "colab": {
          "base_uri": "https://localhost:8080/"
        },
        "id": "P9DE7a0rC5e2",
        "outputId": "db35182d-352b-4b9f-ec39-a583c4c3a968"
      },
      "execution_count": null,
      "outputs": [
        {
          "output_type": "stream",
          "name": "stdout",
          "text": [
            "Вероятность, что ни одна лампочка не перегорит в первый день:   0.135\n"
          ]
        }
      ]
    },
    {
      "cell_type": "code",
      "source": [
        "print(\"Вероятность, что две лампочки перегорит в первый день:  \", P_Puasson(n=5000,m=2,p=0.0004))"
      ],
      "metadata": {
        "colab": {
          "base_uri": "https://localhost:8080/"
        },
        "id": "q2EKh6jPCzyF",
        "outputId": "4fdaa647-2bc7-47ed-c73f-f514ff1fc6b4"
      },
      "execution_count": null,
      "outputs": [
        {
          "output_type": "stream",
          "name": "stdout",
          "text": [
            "Вероятность, что две лампочки перегорит в первый день:   0.271\n"
          ]
        }
      ]
    },
    {
      "cell_type": "markdown",
      "source": [
        "**Задача 3:**\n",
        "\n",
        "Монету подбросили 144 раза. Какова вероятность, что орел выпадет ровно 70 раз?\n",
        "Вероятность того что выпадет орёл равна 0.5.\n",
        "\n",
        "Вероятность равна 0.5>0.1. Воспользуемся формулой Бернулли."
      ],
      "metadata": {
        "id": "-CePqFwLDq2x"
      }
    },
    {
      "cell_type": "code",
      "source": [
        "print(\"Ответ задачи\",round( P_Bernulli(n=144,k=70,p=0.5), 3))"
      ],
      "metadata": {
        "colab": {
          "base_uri": "https://localhost:8080/"
        },
        "id": "AcROYY2HDds_",
        "outputId": "665583b3-1eef-4fd7-e416-c96bac122e55"
      },
      "execution_count": null,
      "outputs": [
        {
          "output_type": "stream",
          "name": "stdout",
          "text": [
            "Ответ задачи 0.063\n"
          ]
        }
      ]
    },
    {
      "cell_type": "markdown",
      "source": [
        "**Задача 4:**\n",
        "\n",
        "В первом ящике находится 10 мячей, из которых 7 - белые. Во втором ящике - 11 мячей, из которых 9 белых. Из каждого ящика вытаскивают случайным образом по два мяча. Какова вероятность того, что все мячи белые? Какова вероятность того, что ровно два мяча белые? Какова вероятность того, что хотя бы один мяч белый?\n",
        "\n",
        "\n"
      ],
      "metadata": {
        "id": "hfz1IHjxEinh"
      }
    },
    {
      "cell_type": "markdown",
      "source": [
        "Возможные комбинации мячей, когда все мячи белые (ББ)(ББ)"
      ],
      "metadata": {
        "id": "liEJCsu-UwZb"
      }
    },
    {
      "cell_type": "markdown",
      "source": [],
      "metadata": {
        "id": "eVB08sc9ZORR"
      }
    },
    {
      "cell_type": "code",
      "source": [
        "P_answer = round( (7/10*6/9)*(9/11*8/10), 3)\n",
        "print(\"Вероятность того, что все мячи белые\", P_answer)"
      ],
      "metadata": {
        "colab": {
          "base_uri": "https://localhost:8080/"
        },
        "outputId": "8d38053f-4c87-405d-d625-8cbcbf3ed8e9",
        "id": "imkpAxZ1G3x_"
      },
      "execution_count": null,
      "outputs": [
        {
          "output_type": "stream",
          "name": "stdout",
          "text": [
            "Вероятность того, что все мячи белые 0.305\n"
          ]
        }
      ]
    },
    {
      "cell_type": "markdown",
      "source": [
        "Возможные комбинации когда хотя бы два мяча белые и сумма комбинаций:\n",
        "\n",
        "(ББ)(ЧЧ)+(БЧ)(БЧ)+(БЧ)(ЧБ)+(ЧБ)(БЧ)+(ЧБ)(ЧБ)+(ЧЧ)(ББ)\n"
      ],
      "metadata": {
        "id": "xtKyV9SCVNn1"
      }
    },
    {
      "cell_type": "code",
      "source": [
        "P_answer = (7/10*6/9)*(2/11*1/10)+(7/10*3/9)*(9/11*2/10)+(7/10*3/9)*(2/11*9/10)+(3/10*7/9)*(9/11*2/10)+(3/10*7/9)*(2/11*9/10)+(3/10*2/9)*(9/11*8/10)\n",
        "\n",
        "print(\"Вероятность того, что ровно два мяча белые\", P_answer)"
      ],
      "metadata": {
        "colab": {
          "base_uri": "https://localhost:8080/"
        },
        "outputId": "4c3728fe-2c6e-4b0e-b684-8cd64185609c",
        "id": "-rTzMdqQIBbB"
      },
      "execution_count": null,
      "outputs": [
        {
          "output_type": "stream",
          "name": "stdout",
          "text": [
            "Вероятность того, что ровно два мяча белые 0.20484848484848484\n"
          ]
        }
      ]
    },
    {
      "cell_type": "markdown",
      "source": [
        "Вероятность того что вытащат только чёрные шары находим по комбинации (ЧЧ)(ЧЧ).\n",
        "Вероятность того что вытащат хотябы один белый шар 1- (ЧЧ)(ЧЧ)"
      ],
      "metadata": {
        "id": "CEwEnpJIXL6g"
      }
    },
    {
      "cell_type": "code",
      "source": [
        "P_answer = 1 - (3/10*2/9)*(2/11*1/10)\n",
        "print(\"Вероятность того, что хотябы один мяч белый\", P_answer)"
      ],
      "metadata": {
        "colab": {
          "base_uri": "https://localhost:8080/"
        },
        "id": "RgFL5trgIhL_",
        "outputId": "a002c54b-f746-4119-d89c-9237c4b098b6"
      },
      "execution_count": null,
      "outputs": [
        {
          "output_type": "stream",
          "name": "stdout",
          "text": [
            "Вероятность того, что хотябы один мяч белый 0.9987878787878788\n"
          ]
        }
      ]
    },
    {
      "cell_type": "code",
      "source": [],
      "metadata": {
        "id": "sWWiqLCjMEiF"
      },
      "execution_count": null,
      "outputs": []
    }
  ]
}